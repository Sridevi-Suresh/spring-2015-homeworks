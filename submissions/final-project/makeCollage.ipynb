{
 "metadata": {
  "name": "",
  "signature": "sha256:4e9360cd00289ece7c8ee872eefcc5cdb27f373737e16cd54add901fed039f01"
 },
 "nbformat": 3,
 "nbformat_minor": 0,
 "worksheets": [
  {
   "cells": [
    {
     "cell_type": "code",
     "collapsed": false,
     "input": [
      "#Import necessary python modules\n",
      "\n",
      "import urllib, cStringIO\n",
      "import pandas as pd\n",
      "from PIL import Image \n"
     ],
     "language": "python",
     "metadata": {},
     "outputs": [],
     "prompt_number": 1
    },
    {
     "cell_type": "code",
     "collapsed": false,
     "input": [
      "#Read in the disneyland data and store the jpeg version of the url of each of the images \n",
      "\n",
      "disneyland = pd.read_csv('disneyland.csv')\n",
      "\n",
      "urls= disneyland.image_url\n",
      "var = 1 \n",
      "for u in urls:\n",
      "    f = cStringIO.StringIO(urllib.urlopen(u).read())\n",
      "    clean = True\n",
      "    try:\n",
      "        img = Image.open(f)\n",
      "    except IOError:\n",
      "        clean = False\n",
      "    if clean:\n",
      "       urllib.urlretrieve(u, \"C:\\Users\\Sridevi\\Documents\\Computer_Science\\cs591DS\\project\\dl_images\\image\"+str(var)+\".jpg\")\n",
      "       var += 1"
     ],
     "language": "python",
     "metadata": {},
     "outputs": [],
     "prompt_number": 27
    },
    {
     "cell_type": "code",
     "collapsed": false,
     "input": [
      "#Read in the disneyworld data and store the jpeg version of the url of each of the images \n",
      "\n",
      "disneyworld = pd.read_csv('disneyworld.csv')\n",
      "\n",
      "urls= disneyworld.image_url\n",
      "var = 1 \n",
      "for u in urls:\n",
      "    f = cStringIO.StringIO(urllib.urlopen(u).read())\n",
      "    clean = True\n",
      "    try:\n",
      "        img = Image.open(f)\n",
      "    except IOError:\n",
      "        clean = False\n",
      "    if clean:\n",
      "       urllib.urlretrieve(u, \"C:\\Users\\Sridevi\\Documents\\Computer_Science\\cs591DS\\project\\dw_images\\image\"+str(var)+\".jpg\")\n",
      "       var += 1"
     ],
     "language": "python",
     "metadata": {},
     "outputs": [],
     "prompt_number": 2
    }
   ],
   "metadata": {}
  }
 ]
}