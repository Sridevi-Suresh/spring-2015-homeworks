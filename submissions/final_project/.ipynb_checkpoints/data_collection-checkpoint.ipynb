{
 "metadata": {
  "name": "",
  "signature": "sha256:5615301889b4acaa87d2c2580706986192933cd41b73200149d903b107c03c1c"
 },
 "nbformat": 3,
 "nbformat_minor": 0,
 "worksheets": [
  {
   "cells": [
    {
     "cell_type": "code",
     "collapsed": false,
     "input": [
      "#Import necessary python modules\n",
      "\n",
      "%matplotlib inline\n",
      "from IPython.display import Image\n",
      "from IPython.display import display \n",
      "from instagram.client import InstagramAPI\n",
      "import matplotlib.pyplot as plt\n",
      "import pickle\n",
      "import time "
     ],
     "language": "python",
     "metadata": {},
     "outputs": [],
     "prompt_number": 1
    },
    {
     "cell_type": "code",
     "collapsed": false,
     "input": [
      "#get Instagram Client ID, and Instagram Cleint Secret as well as create a list of tags to search for within each park.\n",
      "\n",
      "client_id = '' #These are kept secret \n",
      "secret = ''\n",
      "\n",
      "wdw = ['wdw', 'disneyWorld', 'downtownDisney', 'hollywoodstudios', 'magicKingdom', 'epcot', 'animalkingdom']\n",
      "dl = ['disneyLand', 'adventureland', 'tomorrowland', 'crittercountry', 'neworleanssquare', 'toontown', 'mainstreet', 'frontierland']\n",
      "\n"
     ],
     "language": "python",
     "metadata": {},
     "outputs": [],
     "prompt_number": 2
    },
    {
     "cell_type": "code",
     "collapsed": false,
     "input": [
      "#Create a data structure to store using pickles to keep track of all the image urls(this is to ensure that the same post does not get \n",
      "#recorded twice)\n",
      "\n",
      "urls = [];\n",
      "pickle.dump(urls, open(\"image_urls.p\", \"wb\"))"
     ],
     "language": "python",
     "metadata": {},
     "outputs": []
    },
    {
     "cell_type": "code",
     "collapsed": false,
     "input": [
      "#Get the data by calling the Instagram api and retrieving the required information\n",
      "\n",
      "#Input: The client-id and secret id that was given by Instagram. The tag that will be searched on Instagram and the name of the file to\n",
      "#place the data in.\n",
      "\n",
      "def get_data(client_id, secret, tag, filename):\n",
      "    with open(filename, \"ab\") as writing:\n",
      "        urls = pickle.load(open(\"image_urls.p\", \"rb\"))\n",
      "        api = InstagramAPI(client_id=client_id,client_secret=secret)\n",
      "        tags = api.tag_recent_media(tag_name=tag, count=100)[0] #look at only images\n",
      "        if tags:\n",
      "            for tmp in tags:\n",
      "                if tmp and tmp.caption:\n",
      "                    cap = tmp.caption.text\n",
      "                    if isinstance(cap, str):\n",
      "                        cap = cap.replace(',', '')\n",
      "                        cap = cap.replace('\\r', '')\n",
      "                        cap = cap.replace('\\n', '')\n",
      "                        if 'disney' in cap: #Make sure the post is disney related \n",
      "                            link = tmp.images['low_resolution'].url\n",
      "                            if link not in urls:\n",
      "                                username = tmp.user.username\n",
      "                                username = username.encode(\"ascii\", \"ignore\")\n",
      "                                time.sleep(5)\n",
      "                                usr = api.user(tmp.user.id)\n",
      "                                follows = usr.counts['followed_by']\n",
      "                                urls.append(link)\n",
      "                                likes = tmp.like_count \n",
      "                                com = tmp.comments;  \n",
      "                                writing.write(username + \",\" + str(follows) + \",\" + str(link) + \",\" + str(likes) + \",\" + cap + \",\"  + str(len(com)))\n",
      "                                for c in com:\n",
      "                                    c = unicode(c.text)\n",
      "                                    c = c.encode('ascii', 'ignore') #Ignore all non-english posts\n",
      "                                    c = c.replace(',', '')\n",
      "                                    c = c.replace('\\r', '')\n",
      "                                    c = c.replace('\\n', '')\n",
      "                                    writing.write(\",%s\" % c)\n",
      "                                writing.write(\"\\n\")\n",
      "        pickle.dump(urls,open(\"image_urls.p\",\"wb\"))\n",
      "    writing.close()"
     ],
     "language": "python",
     "metadata": {},
     "outputs": [],
     "prompt_number": 3
    },
    {
     "cell_type": "code",
     "collapsed": false,
     "input": [
      "#Call the get_data function for each tag that is used for both parks.\n",
      "\n",
      "for t in wdw:\n",
      "    get_data(client_id, secret, t, 'disneyworld.csv')\n",
      "    time.sleep(200)\n",
      "\n",
      "for t in dl:\n",
      "    get_data(client_id, secret, t, 'disneyland.csv')\n",
      "    time.sleep(200)\n"
     ],
     "language": "python",
     "metadata": {},
     "outputs": [],
     "prompt_number": 5
    }
   ],
   "metadata": {}
  }
 ]
}